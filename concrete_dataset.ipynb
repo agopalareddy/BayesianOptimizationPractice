{
 "cells": [
  {
   "cell_type": "code",
   "execution_count": null,
   "id": "a0a95056",
   "metadata": {
    "lines_to_next_cell": 0,
    "title": "md"
   },
   "outputs": [],
   "source": [
    "# # Install Dependencies and Fetch Dataset"
   ]
  },
  {
   "cell_type": "code",
   "execution_count": null,
   "id": "81d381c4",
   "metadata": {
    "lines_to_next_cell": 0
   },
   "outputs": [],
   "source": [
    "random_state = 1\n",
    "from pprint import pprint"
   ]
  },
  {
   "cell_type": "code",
   "execution_count": null,
   "id": "c8e98846",
   "metadata": {
    "lines_to_next_cell": 0
   },
   "outputs": [],
   "source": [
    "from ucimlrepo import fetch_ucirepo\n",
    "\n",
    "# fetch dataset\n",
    "concrete_compressive_strength = fetch_ucirepo(id=165)\n",
    "\n",
    "# data (as pandas dataframes)\n",
    "X = concrete_compressive_strength.data.features\n",
    "y = concrete_compressive_strength.data.targets\n",
    "\n",
    "# metadata\n",
    "pprint(concrete_compressive_strength.metadata)\n",
    "\n",
    "# variable information\n",
    "pprint(concrete_compressive_strength.variables)"
   ]
  },
  {
   "cell_type": "code",
   "execution_count": null,
   "id": "9fa27964",
   "metadata": {
    "lines_to_next_cell": 0,
    "title": "md"
   },
   "outputs": [],
   "source": [
    "# ## Data Preparation"
   ]
  },
  {
   "cell_type": "code",
   "execution_count": null,
   "id": "ea2c28ea",
   "metadata": {
    "lines_to_next_cell": 0
   },
   "outputs": [],
   "source": [
    "# test and train split\n",
    "from sklearn.model_selection import train_test_split\n",
    "X_train, X_test, y_train, y_test = train_test_split(X, y, test_size=0.2, random_state=random_state)"
   ]
  },
  {
   "cell_type": "code",
   "execution_count": null,
   "id": "037927a9",
   "metadata": {
    "lines_to_next_cell": 0,
    "title": "md"
   },
   "outputs": [],
   "source": [
    "# # Exploratory Data Analysis (EDA)"
   ]
  },
  {
   "cell_type": "code",
   "execution_count": null,
   "id": "c6ee1355",
   "metadata": {
    "lines_to_next_cell": 0,
    "title": "md"
   },
   "outputs": [],
   "source": [
    "# ## Data Inspection"
   ]
  },
  {
   "cell_type": "code",
   "execution_count": null,
   "id": "5de08f90",
   "metadata": {
    "lines_to_next_cell": 0
   },
   "outputs": [],
   "source": [
    "import pandas as pd\n",
    "# Display the first few rows of the features and target\n",
    "display(X_train.head())\n",
    "display(y_train.head())\n",
    "display(X_test.head())\n",
    "display(y_test.head())"
   ]
  },
  {
   "cell_type": "code",
   "execution_count": null,
   "id": "8cf7d0bf",
   "metadata": {
    "lines_to_next_cell": 0
   },
   "outputs": [],
   "source": [
    "# Display the shape of the features and target\n",
    "print(f\"Shape of X_train: {X_train.shape}\")\n",
    "print(f\"Shape of y_train: {y_train.shape}\")\n",
    "print(f\"Shape of X_test: {X_test.shape}\")\n",
    "print(f\"Shape of y_test: {y_test.shape}\")"
   ]
  },
  {
   "cell_type": "code",
   "execution_count": null,
   "id": "f6eb400c",
   "metadata": {
    "lines_to_next_cell": 0
   },
   "outputs": [],
   "source": [
    "# Display the data types of the features and target\n",
    "print(\"Data types of features (X):\")\n",
    "print(X_train.dtypes)\n",
    "print(\"\\nData types of target (y):\")\n",
    "print(y_train.dtypes)"
   ]
  },
  {
   "cell_type": "code",
   "execution_count": null,
   "id": "206c60a7",
   "metadata": {
    "lines_to_next_cell": 0,
    "title": "md"
   },
   "outputs": [],
   "source": [
    "# ## Check for Missing Values"
   ]
  },
  {
   "cell_type": "code",
   "execution_count": null,
   "id": "e48cc717",
   "metadata": {
    "lines_to_next_cell": 0
   },
   "outputs": [],
   "source": [
    "missing_values_X = X.isnull().sum()\n",
    "missing_values_y = y.isnull().sum()\n",
    "print(\"Missing values in features (X):\")\n",
    "print(missing_values_X)\n",
    "print(\"\\nMissing values in target (y):\")\n",
    "print(missing_values_y)"
   ]
  },
  {
   "cell_type": "code",
   "execution_count": null,
   "id": "c8d82c42",
   "metadata": {
    "lines_to_next_cell": 0,
    "title": "md"
   },
   "outputs": [],
   "source": [
    "# ## Summary Statistics"
   ]
  },
  {
   "cell_type": "code",
   "execution_count": null,
   "id": "82fa469b",
   "metadata": {
    "lines_to_next_cell": 0
   },
   "outputs": [],
   "source": [
    "summary_X_train = X_train.describe()\n",
    "print(\"Summary statistics for features (X_train):\")\n",
    "print(summary_X_train)"
   ]
  },
  {
   "cell_type": "code",
   "execution_count": null,
   "id": "1102968e",
   "metadata": {
    "lines_to_next_cell": 0
   },
   "outputs": [],
   "source": [
    "summary_y_train = y_train.describe()\n",
    "print(\"\\nSummary statistics for target (y_train):\")\n",
    "print(summary_y_train)"
   ]
  },
  {
   "cell_type": "code",
   "execution_count": null,
   "id": "b59d6bef",
   "metadata": {
    "lines_to_next_cell": 0,
    "title": "md"
   },
   "outputs": [],
   "source": [
    "# ## Visualizations"
   ]
  },
  {
   "cell_type": "code",
   "execution_count": null,
   "id": "a3f4639c",
   "metadata": {
    "lines_to_next_cell": 0
   },
   "outputs": [],
   "source": [
    "import matplotlib.pyplot as plt\n",
    "import seaborn as sns"
   ]
  },
  {
   "cell_type": "code",
   "execution_count": null,
   "id": "04de1630",
   "metadata": {
    "lines_to_next_cell": 0
   },
   "outputs": [],
   "source": [
    "# Histograms for each feature\n",
    "X_train.hist(figsize=(12, 10))\n",
    "plt.suptitle(\"Histograms of Features\", y=1.02, fontsize=16)\n",
    "plt.tight_layout()\n",
    "plt.show()"
   ]
  },
  {
   "cell_type": "code",
   "execution_count": null,
   "id": "5cf9690f",
   "metadata": {
    "lines_to_next_cell": 0
   },
   "outputs": [],
   "source": [
    "# Box plots for each feature\n",
    "plt.figure(figsize=(12, 10))\n",
    "for i, column in enumerate(X_train.columns, 1):\n",
    "    plt.subplot(3, 4, i)\n",
    "    sns.boxplot(x=X_train[column])\n",
    "    plt.title(f\"Box Plot of {column}\")\n",
    "plt.tight_layout()\n",
    "plt.show()"
   ]
  },
  {
   "cell_type": "code",
   "execution_count": null,
   "id": "3e4ccc66",
   "metadata": {
    "lines_to_next_cell": 0
   },
   "outputs": [],
   "source": [
    "# Histogram of Concrete Compressive Strength\n",
    "plt.figure(figsize=(8, 6))\n",
    "sns.histplot(y_train[\"Concrete compressive strength\"], kde=True)\n",
    "plt.title(\"Histogram of Concrete Compressive Strength\", fontsize=16)\n",
    "plt.xlabel(\"Concrete compressive strength\")\n",
    "plt.ylabel(\"Frequency\")\n",
    "plt.show()"
   ]
  },
  {
   "cell_type": "code",
   "execution_count": null,
   "id": "5a898760",
   "metadata": {
    "lines_to_next_cell": 0
   },
   "outputs": [],
   "source": [
    "# Box Plot of Concrete Compressive Strength\n",
    "plt.figure(figsize=(8, 6))\n",
    "sns.boxplot(x=y_train[\"Concrete compressive strength\"])\n",
    "plt.title(\"Box Plot of Concrete Compressive Strength\", fontsize=16)\n",
    "plt.xlabel(\"Concrete compressive strength\")\n",
    "plt.show()"
   ]
  },
  {
   "cell_type": "code",
   "execution_count": null,
   "id": "fac6ec11",
   "metadata": {
    "lines_to_next_cell": 0,
    "title": "md"
   },
   "outputs": [],
   "source": [
    "# ## Correlation Analysis"
   ]
  },
  {
   "cell_type": "code",
   "execution_count": null,
   "id": "cd14497d",
   "metadata": {
    "lines_to_next_cell": 0
   },
   "outputs": [],
   "source": [
    "plt.figure(figsize=(12, 8))\n",
    "correlation_matrix = X_train.corr()\n",
    "sns.heatmap(correlation_matrix, annot=True, fmt='.2f', cmap='coolwarm', square=True)\n",
    "plt.title('Correlation Heatmap of Features')\n",
    "plt.show()"
   ]
  },
  {
   "cell_type": "code",
   "execution_count": null,
   "id": "ef7f3d85",
   "metadata": {
    "lines_to_next_cell": 0,
    "title": "md"
   },
   "outputs": [],
   "source": [
    "# # Bayesian Optimization"
   ]
  },
  {
   "cell_type": "code",
   "execution_count": null,
   "id": "3adda929",
   "metadata": {
    "lines_to_next_cell": 0,
    "title": "md"
   },
   "outputs": [],
   "source": [
    "# ## Objective Function"
   ]
  },
  {
   "cell_type": "code",
   "execution_count": null,
   "id": "5986777b",
   "metadata": {
    "lines_to_next_cell": 0,
    "title": "md"
   },
   "outputs": [],
   "source": [
    "# The goal is to optimize the concrete compressive strength using Bayesian optimization. The objective function will be defined to minimize the negative of the compressive strength, as we want to maximize it. The parameters to be optimized will include the features of the concrete mix."
   ]
  },
  {
   "cell_type": "code",
   "execution_count": null,
   "id": "c7d86541",
   "metadata": {
    "lines_to_next_cell": 0
   },
   "outputs": [],
   "source": [
    "from skopt import BayesSearchCV\n",
    "from sklearn.ensemble import RandomForestRegressor"
   ]
  },
  {
   "cell_type": "code",
   "execution_count": null,
   "id": "6807d390",
   "metadata": {
    "lines_to_next_cell": 0
   },
   "outputs": [],
   "source": [
    "# Define the model\n",
    "model = RandomForestRegressor(random_state=random_state)"
   ]
  },
  {
   "cell_type": "code",
   "execution_count": null,
   "id": "8a590f54",
   "metadata": {
    "lines_to_next_cell": 0
   },
   "outputs": [],
   "source": [
    "# Define the search space for hyperparameters\n",
    "search_space = {\n",
    "    'n_estimators': (50, 500),  # Number of trees in the forest\n",
    "    'max_depth': (5, 50),        # Maximum depth of the tree\n",
    "    'min_samples_split': (2, 20), # Minimum number of samples required to split an internal node\n",
    "    'min_samples_leaf': (1, 20),  # Minimum number of samples required to be at a leaf node\n",
    "    'max_features': ['sqrt', 'log2', None],  # Number of features to consider when looking for the best split\n",
    "    'bootstrap': [True, False]  # Whether bootstrap samples are used when building trees\n",
    "}"
   ]
  },
  {
   "cell_type": "code",
   "execution_count": null,
   "id": "c886b6ff",
   "metadata": {
    "lines_to_next_cell": 0
   },
   "outputs": [],
   "source": [
    "# Define the Bayesian optimization search\n",
    "opt = BayesSearchCV(\n",
    "    model,\n",
    "    search_space,\n",
    "    n_iter=50,  # Number of iterations for optimization\n",
    "    scoring='neg_mean_squared_error',  # Objective function to minimize\n",
    "    cv=5,  # Cross-validation splitting strategy\n",
    "    n_jobs=-1,  # Use all available cores\n",
    "    random_state=random_state\n",
    ")"
   ]
  },
  {
   "cell_type": "code",
   "execution_count": null,
   "id": "0983e6f2",
   "metadata": {
    "lines_to_next_cell": 0
   },
   "outputs": [],
   "source": [
    "# Fit the model using Bayesian optimization\n",
    "opt.fit(X_train, y_train.values.ravel())"
   ]
  },
  {
   "cell_type": "code",
   "execution_count": null,
   "id": "466ff2c5",
   "metadata": {
    "lines_to_next_cell": 0
   },
   "outputs": [],
   "source": [
    "# Display the best parameters found by Bayesian optimization\n",
    "print(\"Best parameters found by Bayesian optimization:\")\n",
    "pprint(opt.best_params_)"
   ]
  },
  {
   "cell_type": "code",
   "execution_count": null,
   "id": "6f7f44d1",
   "metadata": {
    "lines_to_next_cell": 0
   },
   "outputs": [],
   "source": [
    "# Display the best score achieved\n",
    "print(f\"Best score achieved (negative MSE): {opt.best_score_}\")"
   ]
  },
  {
   "cell_type": "code",
   "execution_count": null,
   "id": "4188ee81",
   "metadata": {
    "lines_to_next_cell": 0
   },
   "outputs": [],
   "source": [
    "# Evaluate the optimized model on the test set\n",
    "from sklearn.metrics import mean_squared_error\n",
    "y_pred = opt.predict(X_test)\n",
    "mse = mean_squared_error(y_test, y_pred)\n",
    "print(f\"Mean Squared Error on test set: {mse}\")"
   ]
  },
  {
   "cell_type": "code",
   "execution_count": null,
   "id": "f73846d2",
   "metadata": {
    "lines_to_next_cell": 0,
    "title": "md"
   },
   "outputs": [],
   "source": [
    "# ## Use Optimized Model to Optimize Concrete Mix using Bayesian Optimization"
   ]
  },
  {
   "cell_type": "code",
   "execution_count": null,
   "id": "b07c8be2",
   "metadata": {
    "lines_to_next_cell": 0
   },
   "outputs": [],
   "source": [
    "# Use the optimized model to predict concrete compressive strength\n",
    "optimized_strength = opt.predict(X_test)\n",
    "print(\"Predicted Concrete Compressive Strength using Optimized Model:\")\n",
    "print(optimized_strength)"
   ]
  },
  {
   "cell_type": "code",
   "execution_count": null,
   "id": "623ab34c",
   "metadata": {
    "lines_to_next_cell": 0
   },
   "outputs": [],
   "source": [
    "# Visualize the predicted vs actual concrete compressive strength\n",
    "plt.figure(figsize=(10, 6))\n",
    "plt.scatter(y_test, optimized_strength, alpha=0.5)\n",
    "plt.plot([y_test.min(), y_test.max()], [y_test.min(), y_test.max()], 'r--', lw=2)\n",
    "plt.title('Predicted vs Actual Concrete Compressive Strength', fontsize=16)\n",
    "plt.xlabel('Actual Concrete Compressive Strength')\n",
    "plt.ylabel('Predicted Concrete Compressive Strength')\n",
    "plt.grid()\n",
    "plt.show()"
   ]
  },
  {
   "cell_type": "code",
   "execution_count": null,
   "id": "b611930b",
   "metadata": {
    "lines_to_next_cell": 0
   },
   "outputs": [],
   "source": [
    "# First check the actual column names in the DataFrame\n",
    "print(\"Actual column names in X_train:\")\n",
    "print(X_train.columns.tolist())"
   ]
  },
  {
   "cell_type": "code",
   "execution_count": null,
   "id": "a9015478",
   "metadata": {
    "lines_to_next_cell": 0
   },
   "outputs": [],
   "source": [
    "# Objective function for Bayesian optimization\n",
    "def objective_function(params):\n",
    "    \"\"\"\n",
    "    Objective function to minimize the negative of the compressive strength.\n",
    "    This function takes a the parameters of the concrete mix and returns the negative compressive strength.\n",
    "    \"\"\"\n",
    "    # Unpack the parameters\n",
    "    cement, slag, ash, water, superplasticizer, coarse_aggregate, fine_aggregate, age = params\n",
    "    # Create a DataFrame with the parameters\n",
    "    concrete_mix = pd.DataFrame({\n",
    "        'Cement': [cement],\n",
    "        'Blast Furnace Slag': [slag],\n",
    "        'Fly Ash': [ash],\n",
    "        'Water': [water],\n",
    "        'Superplasticizer': [superplasticizer],\n",
    "        'Coarse Aggregate': [coarse_aggregate],\n",
    "        'Fine Aggregate': [fine_aggregate],\n",
    "        'Age': [age]\n",
    "    })\n",
    "    # Predict the compressive strength using the optimized model\n",
    "    predicted_strength = opt.predict(concrete_mix)\n",
    "    # Return the negative compressive strength (as we want to maximize it)\n",
    "    return -predicted_strength[0]"
   ]
  },
  {
   "cell_type": "code",
   "execution_count": null,
   "id": "b9627d3a",
   "metadata": {
    "lines_to_next_cell": 0
   },
   "outputs": [],
   "source": [
    "# Define the search space for the parameters of the concrete mix based on the min and max values in the training set\n",
    "search_space_concrete = [\n",
    "    (X_train['Cement'].min(), X_train['Cement'].max()),  # Cement\n",
    "    (X_train['Blast Furnace Slag'].min(), X_train['Blast Furnace Slag'].max()),  # Slag\n",
    "    (X_train['Fly Ash'].min(), X_train['Fly Ash'].max()),  # Ash\n",
    "    (X_train['Water'].min(), X_train['Water'].max()),  # Water\n",
    "    (X_train['Superplasticizer'].min(), X_train['Superplasticizer'].max()),  # Superplasticizer\n",
    "    (X_train['Coarse Aggregate'].min(), X_train['Coarse Aggregate'].max()),  # Coarse Aggregate\n",
    "    (X_train['Fine Aggregate'].min(), X_train['Fine Aggregate'].max()),  # Fine Aggregate\n",
    "    (X_train['Age'].min(), X_train['Age'].max())  # Age\n",
    "]"
   ]
  },
  {
   "cell_type": "code",
   "execution_count": null,
   "id": "0929bbf7",
   "metadata": {
    "lines_to_next_cell": 0
   },
   "outputs": [],
   "source": [
    "from skopt import gp_minimize\n",
    "# Perform Bayesian optimization to find the optimal concrete mix parameters\n",
    "result = gp_minimize(\n",
    "    objective_function,\n",
    "    search_space_concrete,\n",
    "    n_calls=50,  # Number of evaluations\n",
    "    random_state=random_state,\n",
    "    verbose=True\n",
    ")"
   ]
  },
  {
   "cell_type": "code",
   "execution_count": null,
   "id": "41ca3204",
   "metadata": {
    "lines_to_next_cell": 0
   },
   "outputs": [],
   "source": [
    "# Neatly display the best parameters and the best predicted compressive strength along with column names\n",
    "best_params = result.x\n",
    "best_strength = -result.fun  # Negate the result to get the actual strength\n",
    "print(\"Best parameters found by Bayesian optimization:\")\n",
    "for i, param in enumerate(best_params):\n",
    "    print(f\"{X_train.columns[i]}: {param}\")\n",
    "print(f\"Best predicted Concrete Compressive Strength: {best_strength}\")"
   ]
  },
  {
   "cell_type": "code",
   "execution_count": null,
   "id": "456829c4",
   "metadata": {
    "lines_to_next_cell": 0,
    "title": "md"
   },
   "outputs": [],
   "source": [
    "# ## Use XGBoost for the Model instead of Random Forest"
   ]
  },
  {
   "cell_type": "code",
   "execution_count": null,
   "id": "ca7b8a88",
   "metadata": {
    "lines_to_next_cell": 0
   },
   "outputs": [],
   "source": [
    "from xgboost import XGBRegressor"
   ]
  },
  {
   "cell_type": "code",
   "execution_count": null,
   "id": "3f6dc30e",
   "metadata": {
    "lines_to_next_cell": 0
   },
   "outputs": [],
   "source": [
    "# Define the XGBoost model\n",
    "xgb_model = XGBRegressor(random_state=random_state, n_jobs=-1)"
   ]
  },
  {
   "cell_type": "code",
   "execution_count": null,
   "id": "5d9b761a",
   "metadata": {
    "lines_to_next_cell": 0
   },
   "outputs": [],
   "source": [
    "# Define the Bayesian optimization search for XGBoost hyperparameters\n",
    "xgb_search_space = {\n",
    "    'n_estimators': (50, 500),  # Number of trees in the forest\n",
    "    'max_depth': (3, 10),        # Maximum depth of the tree\n",
    "    'learning_rate': (0.01, 0.3, 'uniform'),  # Step size shrinkage used in update to prevent overfitting\n",
    "    'subsample': (0.5, 1.0, 'uniform'),  # Subsample ratio of the training instances\n",
    "    'colsample_bytree': (0.5, 1.0, 'uniform'),  # Subsample ratio of columns when constructing each tree\n",
    "    'gamma': (0, 5),  # Minimum loss reduction required to make a further partition on a leaf\n",
    "    'reg_alpha': (0, 1),  # L1 regularization term on weights\n",
    "    'reg_lambda': (0, 1)  # L2 regularization term on weights\n",
    "}"
   ]
  },
  {
   "cell_type": "code",
   "execution_count": null,
   "id": "b17572eb",
   "metadata": {
    "lines_to_next_cell": 0
   },
   "outputs": [],
   "source": [
    "# Define the Bayesian optimization search for XGBoost\n",
    "xgb_opt = BayesSearchCV(\n",
    "    xgb_model,\n",
    "    xgb_search_space,\n",
    "    n_iter=50,  # Number of iterations for optimization\n",
    "    scoring='neg_mean_squared_error',  # Objective function to minimize\n",
    "    cv=5,  # Cross-validation splitting strategy\n",
    "    n_jobs=-1,  # Use all available cores\n",
    "    random_state=random_state\n",
    ")"
   ]
  },
  {
   "cell_type": "code",
   "execution_count": null,
   "id": "40c717f2",
   "metadata": {
    "lines_to_next_cell": 0
   },
   "outputs": [],
   "source": [
    "# Fit the XGBoost model using Bayesian optimization\n",
    "xgb_opt.fit(X_train, y_train.values.ravel())"
   ]
  },
  {
   "cell_type": "code",
   "execution_count": null,
   "id": "52551b5f",
   "metadata": {
    "lines_to_next_cell": 0
   },
   "outputs": [],
   "source": [
    "# Display the best parameters found by Bayesian optimization for XGBoost\n",
    "print(\"Best parameters found by Bayesian optimization for XGBoost:\")\n",
    "pprint(xgb_opt.best_params_)"
   ]
  },
  {
   "cell_type": "code",
   "execution_count": null,
   "id": "d56e13e2",
   "metadata": {
    "lines_to_next_cell": 0
   },
   "outputs": [],
   "source": [
    "# Display the best score achieved by XGBoost\n",
    "print(f\"Best score achieved (negative MSE) by XGBoost: {xgb_opt.best_score_}\")"
   ]
  },
  {
   "cell_type": "code",
   "execution_count": null,
   "id": "a8f47a24",
   "metadata": {
    "lines_to_next_cell": 0
   },
   "outputs": [],
   "source": [
    "# Evaluate the optimized XGBoost model on the test set\n",
    "y_pred_xgb = xgb_opt.predict(X_test)\n",
    "mse_xgb = mean_squared_error(y_test, y_pred_xgb)\n",
    "print(f\"Mean Squared Error on test set by XGBoost: {mse_xgb}\")"
   ]
  },
  {
   "cell_type": "code",
   "execution_count": null,
   "id": "b6f269fd",
   "metadata": {
    "lines_to_next_cell": 0
   },
   "outputs": [],
   "source": [
    "# Use the optimized XGBoost model to predict concrete compressive strength\n",
    "optimized_strength_xgb = xgb_opt.predict(X_test)\n",
    "print(\"Predicted Concrete Compressive Strength using Optimized XGBoost Model:\")\n",
    "print(optimized_strength_xgb)"
   ]
  },
  {
   "cell_type": "code",
   "execution_count": null,
   "id": "3ea42254",
   "metadata": {
    "lines_to_next_cell": 0
   },
   "outputs": [],
   "source": [
    "# Visualize the predicted vs actual concrete compressive strength using XGBoost\n",
    "plt.figure(figsize=(10, 6))\n",
    "plt.scatter(y_test, optimized_strength_xgb, alpha=0.5)\n",
    "plt.plot([y_test.min(), y_test.max()], [y_test.min(), y_test.max()], 'r--', lw=2)\n",
    "plt.title('Predicted vs Actual Concrete Compressive Strength using XGBoost', fontsize=16)\n",
    "plt.xlabel('Actual Concrete Compressive Strength')\n",
    "plt.ylabel('Predicted Concrete Compressive Strength')\n",
    "plt.grid()\n",
    "plt.show()"
   ]
  },
  {
   "cell_type": "code",
   "execution_count": null,
   "id": "6276640e",
   "metadata": {
    "lines_to_next_cell": 0
   },
   "outputs": [],
   "source": [
    "# Objective function for Bayesian optimization with XGBoost\n",
    "def objective_function_xgb(params):\n",
    "    \"\"\"\n",
    "    Objective function to minimize the negative of the compressive strength using XGBoost.\n",
    "    This function takes the parameters of the concrete mix and returns the negative compressive strength.\n",
    "    \"\"\"\n",
    "    # Unpack the parameters\n",
    "    cement, slag, ash, water, superplasticizer, coarse_aggregate, fine_aggregate, age = params\n",
    "    # Create a DataFrame with the parameters\n",
    "    concrete_mix = pd.DataFrame({\n",
    "        'Cement': [cement],\n",
    "        'Blast Furnace Slag': [slag],\n",
    "        'Fly Ash': [ash],\n",
    "        'Water': [water],\n",
    "        'Superplasticizer': [superplasticizer],\n",
    "        'Coarse Aggregate': [coarse_aggregate],\n",
    "        'Fine Aggregate': [fine_aggregate],\n",
    "        'Age': [age]\n",
    "    })\n",
    "    # Predict the compressive strength using the optimized XGBoost model\n",
    "    predicted_strength = xgb_opt.predict(concrete_mix)\n",
    "    # Return the negative compressive strength (as we want to maximize it)\n",
    "    return -predicted_strength[0]"
   ]
  },
  {
   "cell_type": "code",
   "execution_count": null,
   "id": "ac9fdafc",
   "metadata": {
    "lines_to_next_cell": 0
   },
   "outputs": [],
   "source": [
    "# Define the search space for the parameters of the concrete mix based on the min and max values in the training set\n",
    "search_space_concrete_xgb = [\n",
    "    (X_train['Cement'].min(), X_train['Cement'].max()),  # Cement\n",
    "    (X_train['Blast Furnace Slag'].min(), X_train['Blast Furnace Slag'].max()),  # Slag\n",
    "    (X_train['Fly Ash'].min(), X_train['Fly Ash'].max()),  # Ash\n",
    "    (X_train['Water'].min(), X_train['Water'].max()),  # Water\n",
    "    (X_train['Superplasticizer'].min(), X_train['Superplasticizer'].max()),  # Superplasticizer\n",
    "    (X_train['Coarse Aggregate'].min(), X_train['Coarse Aggregate'].max()),  # Coarse Aggregate\n",
    "    (X_train['Fine Aggregate'].min(), X_train['Fine Aggregate'].max()),  # Fine Aggregate\n",
    "    (X_train['Age'].min(), X_train['Age'].max())  # Age\n",
    "]"
   ]
  },
  {
   "cell_type": "code",
   "execution_count": null,
   "id": "d81942ec",
   "metadata": {
    "lines_to_next_cell": 0
   },
   "outputs": [],
   "source": [
    "from skopt import gp_minimize\n",
    "# Perform Bayesian optimization to find the optimal concrete mix parameters using XGBoost\n",
    "result_xgb = gp_minimize(\n",
    "    objective_function_xgb,\n",
    "    search_space_concrete_xgb,\n",
    "    n_calls=50,  # Number of evaluations\n",
    "    random_state=random_state,\n",
    "    verbose=True\n",
    ")"
   ]
  },
  {
   "cell_type": "code",
   "execution_count": null,
   "id": "b896c0cd",
   "metadata": {
    "lines_to_next_cell": 0
   },
   "outputs": [],
   "source": [
    "# Neatly display the best parameters and the best predicted compressive strength along with column names for XGBoost\n",
    "best_params_xgb = result_xgb.x\n",
    "best_strength_xgb = -result_xgb.fun  # Negate the result to get the actual strength\n",
    "print(\"Best parameters found by Bayesian optimization for XGBoost:\")\n",
    "for i, param in enumerate(best_params_xgb):\n",
    "    print(f\"{X_train.columns[i]}: {param}\")\n",
    "print(f\"Best predicted Concrete Compressive Strength using XGBoost: {best_strength_xgb}\")"
   ]
  },
  {
   "cell_type": "code",
   "execution_count": null,
   "id": "64e1d32d",
   "metadata": {
    "lines_to_next_cell": 0,
    "title": "md"
   },
   "outputs": [],
   "source": [
    "# # Conclusion\n",
    "# \n",
    "# In this notebook, I successfully fetched the Concrete Compressive Strength dataset, performed exploratory data analysis, and applied Bayesian optimization to find the optimal concrete mix parameters using both Random Forest and XGBoost models. The results showed that we could predict the concrete compressive strength effectively, and the optimized parameters were displayed for both models. The XGBoost model provided a robust alternative to the Random Forest model, demonstrating the flexibility of using different machine learning algorithms for optimization tasks."
   ]
  },
  {
   "cell_type": "code",
   "execution_count": null,
   "id": "2123b83e",
   "metadata": {
    "title": "md"
   },
   "outputs": [],
   "source": [
    "# # Human-in-the-Loop Preference Learning for Bayesian Optimization\n",
    "#\n",
    "# In this section, we will implement a Human-in-the-Loop (HITL) approach to guide the Bayesian optimization process using preference learning. We will simulate a human expert to provide subjective feedback on concrete mix profiles, which will be used to train a user belief model. This model will then be combined with the main surrogate model to create a more informed acquisition function."
   ]
  },
  {
   "cell_type": "code",
   "execution_count": null,
   "id": "0a3b65c3",
   "metadata": {
    "title": "md"
   },
   "outputs": [],
   "source": [
    "# ## Step 1: Simulate the Human Expert\n",
    "#\n",
    "# We begin by creating a function that simulates a human expert's preferences. This function will compare two concrete mix profiles and indicate a preference based on their proximity to a \"golden standard\" profile, which we define using the best parameters found by the XGBoost optimization."
   ]
  },
  {
   "cell_type": "code",
   "execution_count": null,
   "id": "b5023ae2",
   "metadata": {
    "lines_to_next_cell": 0
   },
   "outputs": [],
   "source": [
    "import numpy as np\n",
    "\n",
    "# Golden standard profile based on XGBoost optimization results\n",
    "golden_standard_profile = result_xgb.x\n",
    "\n",
    "def simulate_human_expert(profile1, profile2):\n",
    "    \"\"\"\n",
    "    Simulates a human expert's preference between two concrete mix profiles.\n",
    "    The preference is based on the Euclidean distance to a golden standard profile.\n",
    "\n",
    "    Args:\n",
    "        profile1 (list): The first concrete mix profile.\n",
    "        profile2 (list): The second concrete mix profile.\n",
    "\n",
    "    Returns:\n",
    "        int: 1 if profile1 is preferred, 0 otherwise.\n",
    "    \"\"\"\n",
    "    dist1 = np.linalg.norm(np.array(profile1) - golden_standard_profile)\n",
    "    dist2 = np.linalg.norm(np.array(profile2) - golden_standard_profile)\n",
    "    if dist1 < dist2:\n",
    "        return 1  # Prefers profile1\n",
    "    else:\n",
    "        return 0  # Prefers profile2\n",
    "\n",
    "# Example usage:\n",
    "# Create two random profiles for demonstration\n",
    "random_profile1 = [X_train.iloc[0, i] for i in range(X_train.shape[1])]\n",
    "random_profile2 = [X_train.iloc[1, i] for i in range(X_train.shape[1])]\n",
    "preference = simulate_human_expert(random_profile1, random_profile2)\n",
    "print(f\"Simulated expert preference: {preference}\")"
   ]
  },
  {
   "cell_type": "code",
   "execution_count": null,
   "id": "43c6be9e",
   "metadata": {
    "title": "md"
   },
   "outputs": [],
   "source": [
    "# ## Step 2: Implement the Preference Learning Component\n",
    "#\n",
    "# Next, we implement the preference learning component. This involves generating pairs of candidate concrete mix profiles, eliciting preferences from our simulated expert, and training a user belief model—a Gaussian Process Classifier (GPC)—on this preference data. The GPC will learn to predict the expert's preferences, which will help guide the optimization."
   ]
  },
  {
   "cell_type": "code",
   "execution_count": null,
   "id": "8e583fe6",
   "metadata": {
    "lines_to_next_cell": 0
   },
   "outputs": [],
   "source": [
    "from sklearn.gaussian_process import GaussianProcessClassifier\n",
    "from sklearn.gaussian_process.kernels import RBF\n",
    "import warnings\n",
    "\n",
    "# Suppress warnings from GPC\n",
    "warnings.filterwarnings(\"ignore\", category=UserWarning)\n",
    "\n",
    "\n",
    "# Initialize the user belief model (GPC)\n",
    "# A radial-basis function (RBF) kernel is a common choice\n",
    "kernel = 1.0 * RBF(length_scale=1.0)\n",
    "user_belief_model = GaussianProcessClassifier(kernel=kernel, random_state=random_state)\n",
    "\n",
    "# Generate initial preference data to train the GPC\n",
    "n_initial_pairs = 10\n",
    "preference_data = []\n",
    "preference_labels = []\n",
    "\n",
    "for _ in range(n_initial_pairs):\n",
    "    # Generate two random profiles from the search space\n",
    "    x1 = [np.random.uniform(low, high) for low, high in search_space_concrete_xgb]\n",
    "    x2 = [np.random.uniform(low, high) for low, high in search_space_concrete_xgb]\n",
    "\n",
    "    # Get the simulated expert's preference\n",
    "    preference = simulate_human_expert(x1, x2)\n",
    "\n",
    "    # Store the preference data\n",
    "    # We create a feature vector that is the difference between the two profiles\n",
    "    preference_data.append(np.array(x1) - np.array(x2))\n",
    "    preference_labels.append(preference)\n",
    "\n",
    "# Train the initial user belief model\n",
    "user_belief_model.fit(preference_data, preference_labels)\n",
    "\n",
    "print(\"Initial user belief model trained.\")"
   ]
  },
  {
   "cell_type": "code",
   "execution_count": null,
   "id": "15021f88",
   "metadata": {
    "title": "md"
   },
   "outputs": [],
   "source": [
    "# ## Step 3: Modify the Bayesian Optimization Loop\n",
    "#\n",
    "# Now, we integrate the user belief model into the Bayesian optimization loop. We'll create a new acquisition function that combines the predictions from our main surrogate model (XGBoost) and the user belief model (GPC). This new function will guide the selection of candidate profiles by balancing predicted compressive strength with the simulated expert's preferences. A custom optimization loop is implemented to accommodate this HITL approach."
   ]
  },
  {
   "cell_type": "code",
   "execution_count": null,
   "id": "2115e287",
   "metadata": {
    "lines_to_next_cell": 0
   },
   "outputs": [],
   "source": [
    "from scipy.optimize import minimize\n",
    "import time\n",
    "\n",
    "# --- Configuration ---\n",
    "n_iterations = 50\n",
    "n_candidates_per_iteration = 100  # Number of random candidates to evaluate with the acquisition function\n",
    "acquisition_weight = 0.5  # Weight for combining surrogate and belief models\n",
    "\n",
    "# --- Initialization ---\n",
    "# Use the best XGBoost model as the main surrogate\n",
    "main_surrogate_model = xgb_opt.best_estimator_\n",
    "\n",
    "# Store the history of evaluated points and their objective values\n",
    "evaluated_points = []\n",
    "objective_values = []\n",
    "\n",
    "# Store the convergence history\n",
    "convergence_hitl = []\n",
    "best_strength_so_far = -np.inf\n",
    "\n",
    "# --- Custom Optimization Loop ---\n",
    "start_time = time.time()\n",
    "\n",
    "for i in range(n_iterations):\n",
    "    print(f\"--- Iteration {i+1}/{n_iterations} ---\")\n",
    "\n",
    "    # 1. Generate candidate profiles to evaluate with the acquisition function\n",
    "    candidates = []\n",
    "    for _ in range(n_candidates_per_iteration):\n",
    "        candidate = [np.random.uniform(low, high) for low, high in search_space_concrete_xgb]\n",
    "        candidates.append(candidate)\n",
    "\n",
    "    # 2. Define and evaluate the new acquisition function for each candidate\n",
    "    def acquisition_function(x):\n",
    "        x_df = pd.DataFrame([x], columns=X_train.columns)\n",
    "\n",
    "        # a) Prediction from the main surrogate model (XGBoost)\n",
    "        pred_strength = main_surrogate_model.predict(x_df)[0]\n",
    "\n",
    "        # b) Prediction from the user belief model (GPC)\n",
    "        pred_preference = user_belief_model.predict_proba(np.array(x).reshape(1, -1))[0][1]\n",
    "\n",
    "        # c) Combine the two predictions (weighted average)\n",
    "        return acquisition_weight * pred_strength + (1 - acquisition_weight) * pred_preference\n",
    "\n",
    "    # Evaluate acquisition function for all candidates\n",
    "    acquisition_scores = [acquisition_function(c) for c in candidates]\n",
    "\n",
    "    # 3. Select the best candidate\n",
    "    best_candidate_index = np.argmax(acquisition_scores)\n",
    "    next_point = candidates[best_candidate_index]\n",
    "    print(f\"Selected new point to evaluate.\")\n",
    "\n",
    "    # 4. Evaluate the selected point with the true objective function\n",
    "    true_objective_value = -objective_function_xgb(next_point) # Negate to get strength\n",
    "    print(f\"True strength of new point: {true_objective_value:.4f}\")\n",
    "\n",
    "    # Store the results\n",
    "    evaluated_points.append(next_point)\n",
    "    objective_values.append(true_objective_value)\n",
    "\n",
    "    # Update convergence tracking\n",
    "    if true_objective_value > best_strength_so_far:\n",
    "        best_strength_so_far = true_objective_value\n",
    "    convergence_hitl.append(best_strength_so_far)\n",
    "\n",
    "    # 5. Update the user belief model with new preference data\n",
    "    if len(evaluated_points) > 1:\n",
    "        random_index = np.random.randint(0, len(evaluated_points) - 1)\n",
    "        profile1 = next_point\n",
    "        profile2 = evaluated_points[random_index]\n",
    "\n",
    "        preference = simulate_human_expert(profile1, profile2)\n",
    "\n",
    "        if preference == 1:\n",
    "            new_data_point = np.array(profile1) - np.array(profile2)\n",
    "            new_label = 1\n",
    "        else:\n",
    "            new_data_point = np.array(profile2) - np.array(profile1)\n",
    "            new_label = 1\n",
    "\n",
    "        preference_data.append(new_data_point)\n",
    "        preference_labels.append(new_label)\n",
    "        user_belief_model.fit(preference_data, preference_labels)\n",
    "        print(\"User belief model updated.\")\n",
    "\n",
    "end_time = time.time()\n",
    "print(f\"\\nHITL optimization finished in {end_time - start_time:.2f} seconds.\")\n",
    "\n",
    "# --- Final Results ---\n",
    "best_hitl_index = np.argmax(objective_values)\n",
    "best_params_hitl = evaluated_points[best_hitl_index]\n",
    "best_strength_hitl = objective_values[best_hitl_index]\n",
    "\n",
    "print(\"\\nBest parameters found by HITL Bayesian optimization:\")\n",
    "for i, param in enumerate(best_params_hitl):\n",
    "    print(f\"{X_train.columns[i]}: {param}\")\n",
    "print(f\"\\nBest predicted compressive strength using HITL: {best_strength_hitl}\")"
   ]
  },
  {
   "cell_type": "code",
   "execution_count": null,
   "id": "a5f74ab8",
   "metadata": {
    "title": "md"
   },
   "outputs": [],
   "source": [
    "# ## Step 4: Final Evaluation\n",
    "#\n",
    "# Finally, we evaluate the performance of our Human-in-the-Loop (HITL) Bayesian optimization and compare it to the original XGBoost-based optimization for the concrete dataset. We will plot the convergence of both methods to see which one finds a better solution faster and compare the best concrete mix profiles discovered by each approach."
   ]
  },
  {
   "cell_type": "code",
   "execution_count": null,
   "id": "70e7cc27",
   "metadata": {},
   "outputs": [],
   "source": [
    "# --- Prepare Data for Comparison ---\n",
    "# Get the convergence data from the original gp_minimize result\n",
    "convergence_original = np.maximum.accumulate(-np.array(result_xgb.func_vals))\n",
    "\n",
    "# Ensure both convergence plots are of the same length\n",
    "num_evaluations = min(len(convergence_hitl), len(convergence_original))\n",
    "convergence_hitl_plot = convergence_hitl[:num_evaluations]\n",
    "convergence_original_plot = convergence_original[:num_evaluations]\n",
    "\n",
    "# --- Plotting the Convergence ---\n",
    "plt.figure(figsize=(12, 8))\n",
    "plt.plot(range(1, num_evaluations + 1), convergence_hitl_plot, 'o-', label='HITL Bayesian Optimization', color='blue')\n",
    "plt.plot(range(1, num_evaluations + 1), convergence_original_plot, 's-', label='Original Bayesian Optimization (XGBoost)', color='green')\n",
    "plt.title('Convergence Comparison: HITL vs. Original Bayesian Optimization', fontsize=16)\n",
    "plt.xlabel('Number of Evaluations', fontsize=12)\n",
    "plt.ylabel('Best Compressive Strength Found So Far', fontsize=12)\n",
    "plt.legend(fontsize=12)\n",
    "plt.grid(True, which='both', linestyle='--', linewidth=0.5)\n",
    "plt.show()\n",
    "\n",
    "# --- Comparing the Best Results ---\n",
    "print(\"--- Comparison of Best Results ---\")\n",
    "print(\"\\nOriginal Bayesian Optimization (XGBoost):\")\n",
    "print(f\"  Best Compressive Strength: {best_strength_xgb:.4f}\")\n",
    "print(\"  Best Profile:\")\n",
    "for i, param in enumerate(best_params_xgb):\n",
    "    print(f\"    {X_train.columns[i]}: {param:.4f}\")\n",
    "\n",
    "print(\"\\nHITL Bayesian Optimization:\")\n",
    "print(f\"  Best Compressive Strength: {best_strength_hitl:.4f}\")\n",
    "print(\"  Best Profile:\")\n",
    "for i, param in enumerate(best_params_hitl):\n",
    "    print(f\"    {X_train.columns[i]}: {param:.4f}\")\n",
    "\n",
    "# --- Analysis ---\n",
    "print(\"\\n--- Analysis ---\")\n",
    "if best_strength_hitl > best_strength_xgb:\n",
    "    print(\"The HITL approach found a concrete mix with a higher predicted compressive strength.\")\n",
    "    print(f\"Strength improvement: {best_strength_hitl - best_strength_xgb:.4f}\")\n",
    "else:\n",
    "    print(\"The original Bayesian optimization found a concrete mix with a slightly better or equal compressive strength.\")\n",
    "\n",
    "print(\"\\nBy observing the convergence plot, we can analyze which method converged faster to a high-strength solution.\")"
   ]
  }
 ],
 "metadata": {
  "jupytext": {
   "cell_metadata_filter": "title,-all",
   "main_language": "python",
   "notebook_metadata_filter": "-all"
  }
 },
 "nbformat": 4,
 "nbformat_minor": 5
}
